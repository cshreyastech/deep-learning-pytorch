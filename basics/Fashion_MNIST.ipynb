{
 "cells": [
  {
   "cell_type": "code",
   "execution_count": 16,
   "metadata": {},
   "outputs": [
    {
     "name": "stdout",
     "output_type": "stream",
     "text": [
      "The autoreload extension is already loaded. To reload it, use:\n",
      "  %reload_ext autoreload\n"
     ]
    }
   ],
   "source": [
    "import torch\n",
    "import torch.nn as nn\n",
    "import torch.nn.functional as F\n",
    "import torch.optim as optim\n",
    "\n",
    "import torchvision\n",
    "import torchvision.transforms as transforms\n",
    "from torch.utils.data import DataLoader\n",
    "from torch.utils.tensorboard import SummaryWriter\n",
    "from IPython.display import display, clear_output\n",
    "\n",
    "import numpy as np\n",
    "import matplotlib.pyplot as plt\n",
    "\n",
    "torch.set_printoptions(linewidth=120)\n",
    "\n",
    "from torch.utils.tensorboard import SummaryWriter\n",
    "from itertools import product\n",
    "\n",
    "#confusion matrix\n",
    "import matplotlib.pyplot as plt\n",
    "from sklearn.metrics import confusion_matrix\n",
    "\n",
    "%load_ext autoreload\n",
    "%autoreload 2\n",
    "from utils.plotcm import plot_confusion_matrix\n",
    "\n",
    "#Runbuilder\n",
    "from collections import OrderedDict\n",
    "from collections import namedtuple\n",
    "from itertools import product\n",
    "\n",
    "import pandas as pd\n",
    "import time\n",
    "import json"
   ]
  },
  {
   "cell_type": "code",
   "execution_count": 2,
   "metadata": {},
   "outputs": [],
   "source": [
    "train_set = torchvision.datasets.FashionMNIST(\n",
    "    root='/home/cstx2/datarepo/FashionMNIST'\n",
    "    ,train=True\n",
    "    ,download=True\n",
    "    ,transform=transforms.Compose([\n",
    "        transforms.ToTensor()\n",
    "    ])\n",
    ")"
   ]
  },
  {
   "cell_type": "code",
   "execution_count": 4,
   "metadata": {},
   "outputs": [
    {
     "name": "stdout",
     "output_type": "stream",
     "text": [
      "60000\n",
      "60000\n"
     ]
    }
   ],
   "source": [
    "print(len(train_set))\n",
    "print(len(train_set.targets)) # labels"
   ]
  },
  {
   "cell_type": "code",
   "execution_count": 12,
   "metadata": {},
   "outputs": [],
   "source": [
    "class Network(nn.Module):\n",
    "    def __init__(self):\n",
    "        super(Network, self).__init__()\n",
    "        self.conv1 = nn.Conv2d(in_channels=1, out_channels=6, kernel_size=5)\n",
    "        self.conv2 = nn.Conv2d(in_channels=6, out_channels=12, kernel_size=5)\n",
    "        \n",
    "        self.fc1 = nn.Linear(in_features=12*4*4, out_features=120)\n",
    "        self.fc2 = nn.Linear(in_features=120, out_features=60)\n",
    "        self.out = nn.Linear(in_features=60, out_features=10)\n",
    "        \n",
    "    def forward(self, t):\n",
    "        t = self.conv1(t)\n",
    "        t = F.relu(t)\n",
    "        t = F.max_pool2d(t, kernel_size=2, stride=2)\n",
    "        \n",
    "        t = F.relu(self.conv2(t))\n",
    "        t = F.max_pool2d(t, kernel_size=2, stride=2)\n",
    "        \n",
    "        t = F.relu(self.fc1(t.reshape(-1, 12 * 4 * 4)))\n",
    "        t = F.relu(self.fc2(t))\n",
    "        t = self.out(t)\n",
    "        #t = F.softmax(t, dim=1)\n",
    "        \n",
    "        return t"
   ]
  },
  {
   "cell_type": "code",
   "execution_count": 5,
   "metadata": {},
   "outputs": [
    {
     "data": {
      "text/plain": [
       "<torch.autograd.grad_mode.set_grad_enabled at 0x7f9c444630>"
      ]
     },
     "execution_count": 5,
     "metadata": {},
     "output_type": "execute_result"
    }
   ],
   "source": [
    "torch.set_grad_enabled(False)"
   ]
  },
  {
   "cell_type": "code",
   "execution_count": 6,
   "metadata": {},
   "outputs": [],
   "source": [
    "network = Network()"
   ]
  },
  {
   "cell_type": "code",
   "execution_count": 7,
   "metadata": {},
   "outputs": [],
   "source": [
    "sample = next(iter(train_set))"
   ]
  },
  {
   "cell_type": "code",
   "execution_count": 8,
   "metadata": {},
   "outputs": [
    {
     "data": {
      "text/plain": [
       "torch.Size([1, 28, 28])"
      ]
     },
     "execution_count": 8,
     "metadata": {},
     "output_type": "execute_result"
    }
   ],
   "source": [
    "image, label = sample\n",
    "image.shape"
   ]
  },
  {
   "cell_type": "code",
   "execution_count": 9,
   "metadata": {},
   "outputs": [
    {
     "data": {
      "text/plain": [
       "torch.Size([1, 1, 28, 28])"
      ]
     },
     "execution_count": 9,
     "metadata": {},
     "output_type": "execute_result"
    }
   ],
   "source": [
    "image.unsqueeze(0).shape"
   ]
  },
  {
   "cell_type": "code",
   "execution_count": 10,
   "metadata": {},
   "outputs": [],
   "source": [
    "pred = network(image.unsqueeze(0)) # image size to match (batch_size x in_channels x H x W)"
   ]
  },
  {
   "cell_type": "code",
   "execution_count": 11,
   "metadata": {},
   "outputs": [
    {
     "data": {
      "text/plain": [
       "torch.Size([1, 10])"
      ]
     },
     "execution_count": 11,
     "metadata": {},
     "output_type": "execute_result"
    }
   ],
   "source": [
    "pred.shape"
   ]
  },
  {
   "cell_type": "code",
   "execution_count": 12,
   "metadata": {},
   "outputs": [
    {
     "data": {
      "text/plain": [
       "tensor([[-0.0493,  0.0005, -0.0029,  0.1402,  0.0553, -0.1380, -0.0999,  0.0417, -0.0341,  0.0634]])"
      ]
     },
     "execution_count": 12,
     "metadata": {},
     "output_type": "execute_result"
    }
   ],
   "source": [
    "pred"
   ]
  },
  {
   "cell_type": "code",
   "execution_count": 13,
   "metadata": {},
   "outputs": [
    {
     "data": {
      "text/plain": [
       "9"
      ]
     },
     "execution_count": 13,
     "metadata": {},
     "output_type": "execute_result"
    }
   ],
   "source": [
    "label"
   ]
  },
  {
   "cell_type": "code",
   "execution_count": 14,
   "metadata": {},
   "outputs": [
    {
     "data": {
      "text/plain": [
       "tensor([3])"
      ]
     },
     "execution_count": 14,
     "metadata": {},
     "output_type": "execute_result"
    }
   ],
   "source": [
    "pred.argmax(dim=1)"
   ]
  },
  {
   "cell_type": "code",
   "execution_count": 15,
   "metadata": {},
   "outputs": [
    {
     "data": {
      "text/plain": [
       "tensor([[0.0951, 0.1000, 0.0996, 0.1150, 0.1056, 0.0870, 0.0904, 0.1042, 0.0966, 0.1065]])"
      ]
     },
     "execution_count": 15,
     "metadata": {},
     "output_type": "execute_result"
    }
   ],
   "source": [
    "F.softmax(pred, dim=1)"
   ]
  },
  {
   "cell_type": "code",
   "execution_count": 16,
   "metadata": {},
   "outputs": [
    {
     "data": {
      "text/plain": [
       "tensor(1.0000)"
      ]
     },
     "execution_count": 16,
     "metadata": {},
     "output_type": "execute_result"
    }
   ],
   "source": [
    "F.softmax(pred, dim=1).sum()"
   ]
  },
  {
   "cell_type": "code",
   "execution_count": 17,
   "metadata": {},
   "outputs": [],
   "source": [
    "network = Network()"
   ]
  },
  {
   "cell_type": "code",
   "execution_count": 18,
   "metadata": {},
   "outputs": [],
   "source": [
    "data_loader = torch.utils.data.DataLoader(\n",
    "    train_set, batch_size=10\n",
    ")"
   ]
  },
  {
   "cell_type": "code",
   "execution_count": 19,
   "metadata": {},
   "outputs": [],
   "source": [
    "batch = next(iter(data_loader))\n",
    "images, labels = batch"
   ]
  },
  {
   "cell_type": "code",
   "execution_count": 20,
   "metadata": {},
   "outputs": [
    {
     "name": "stdout",
     "output_type": "stream",
     "text": [
      "torch.Size([10, 1, 28, 28])\n",
      "torch.Size([10])\n"
     ]
    }
   ],
   "source": [
    "print(images.shape)\n",
    "print(labels.shape)"
   ]
  },
  {
   "cell_type": "code",
   "execution_count": 21,
   "metadata": {},
   "outputs": [
    {
     "name": "stdout",
     "output_type": "stream",
     "text": [
      "torch.Size([10, 10])\n"
     ]
    }
   ],
   "source": [
    "preds = network(images)\n",
    "print(preds.shape)"
   ]
  },
  {
   "cell_type": "code",
   "execution_count": 22,
   "metadata": {},
   "outputs": [
    {
     "name": "stdout",
     "output_type": "stream",
     "text": [
      "tensor([7, 7, 7, 7, 7, 7, 7, 7, 7, 7])\n",
      "tensor([9, 0, 0, 3, 0, 2, 7, 2, 5, 5])\n"
     ]
    }
   ],
   "source": [
    "print(preds.argmax(dim=1))\n",
    "print(labels)"
   ]
  },
  {
   "cell_type": "code",
   "execution_count": 23,
   "metadata": {},
   "outputs": [
    {
     "name": "stdout",
     "output_type": "stream",
     "text": [
      "tensor([False, False, False, False, False, False,  True, False, False, False])\n",
      "tensor(1)\n"
     ]
    }
   ],
   "source": [
    "print(preds.argmax(dim=1).eq(labels))\n",
    "print(preds.argmax(dim=1).eq(labels).sum())"
   ]
  },
  {
   "cell_type": "code",
   "execution_count": 4,
   "metadata": {},
   "outputs": [],
   "source": [
    "def get_num_correct(preds, labels):\n",
    "    return preds.argmax(dim=1).eq(labels).sum().item()"
   ]
  },
  {
   "cell_type": "code",
   "execution_count": 25,
   "metadata": {},
   "outputs": [
    {
     "data": {
      "text/plain": [
       "1"
      ]
     },
     "execution_count": 25,
     "metadata": {},
     "output_type": "execute_result"
    }
   ],
   "source": [
    "get_num_correct(preds, labels)"
   ]
  },
  {
   "cell_type": "code",
   "execution_count": 26,
   "metadata": {},
   "outputs": [
    {
     "name": "stdout",
     "output_type": "stream",
     "text": [
      "tensor([[ 0.0216, -0.0056, -0.0986, -0.0218, -0.0838, -0.0310,  0.0886,  0.1335, -0.1084, -0.1069]])\n"
     ]
    }
   ],
   "source": [
    "output = network(image.unsqueeze(0))\n",
    "print(output)"
   ]
  },
  {
   "cell_type": "code",
   "execution_count": 27,
   "metadata": {},
   "outputs": [
    {
     "data": {
      "text/plain": [
       "<torch.autograd.grad_mode.set_grad_enabled at 0x7f294f87f0>"
      ]
     },
     "execution_count": 27,
     "metadata": {},
     "output_type": "execute_result"
    }
   ],
   "source": [
    "torch.set_grad_enabled(True)"
   ]
  },
  {
   "cell_type": "code",
   "execution_count": 28,
   "metadata": {},
   "outputs": [],
   "source": [
    "network = Network()"
   ]
  },
  {
   "cell_type": "code",
   "execution_count": 7,
   "metadata": {},
   "outputs": [],
   "source": [
    "train_loader = torch.utils.data.DataLoader(\n",
    "    train_set, batch_size=100, shuffle=True\n",
    ")\n",
    "\n",
    "batch = next(iter(train_loader))\n",
    "images, labels = batch"
   ]
  },
  {
   "cell_type": "code",
   "execution_count": 30,
   "metadata": {},
   "outputs": [
    {
     "data": {
      "text/plain": [
       "2.289112091064453"
      ]
     },
     "execution_count": 30,
     "metadata": {},
     "output_type": "execute_result"
    }
   ],
   "source": [
    "preds = network(images)\n",
    "loss = F.cross_entropy(preds, labels)\n",
    "loss.item()"
   ]
  },
  {
   "cell_type": "markdown",
   "metadata": {},
   "source": [
    "Calculating the Gradients"
   ]
  },
  {
   "cell_type": "code",
   "execution_count": 31,
   "metadata": {},
   "outputs": [
    {
     "name": "stdout",
     "output_type": "stream",
     "text": [
      "None\n"
     ]
    }
   ],
   "source": [
    "print(network.conv1.weight.grad)"
   ]
  },
  {
   "cell_type": "code",
   "execution_count": 32,
   "metadata": {},
   "outputs": [],
   "source": [
    "loss.backward()"
   ]
  },
  {
   "cell_type": "code",
   "execution_count": 33,
   "metadata": {},
   "outputs": [
    {
     "name": "stdout",
     "output_type": "stream",
     "text": [
      "torch.Size([6, 1, 5, 5])\n",
      "torch.Size([6, 1, 5, 5])\n"
     ]
    }
   ],
   "source": [
    "print(network.conv1.weight.shape)\n",
    "print(network.conv1.weight.grad.shape)"
   ]
  },
  {
   "cell_type": "markdown",
   "metadata": {},
   "source": [
    "Updating Weights"
   ]
  },
  {
   "cell_type": "code",
   "execution_count": 34,
   "metadata": {},
   "outputs": [
    {
     "name": "stdout",
     "output_type": "stream",
     "text": [
      "11\n"
     ]
    }
   ],
   "source": [
    "optimizer = optim.Adam(network.parameters(), lr=0.01)\n",
    "loss.item()\n",
    "print(get_num_correct(preds, labels))"
   ]
  },
  {
   "cell_type": "code",
   "execution_count": 35,
   "metadata": {},
   "outputs": [
    {
     "name": "stdout",
     "output_type": "stream",
     "text": [
      "2.2576115131378174\n",
      "13\n"
     ]
    }
   ],
   "source": [
    "optimizer.step() # update weights\n",
    "preds = network(images)\n",
    "loss = F.cross_entropy(preds, labels)\n",
    "print(loss.item())\n",
    "print(get_num_correct(preds, labels))"
   ]
  },
  {
   "cell_type": "code",
   "execution_count": 36,
   "metadata": {},
   "outputs": [
    {
     "name": "stdout",
     "output_type": "stream",
     "text": [
      "2.315744638442993\n",
      "2.3005053997039795\n"
     ]
    }
   ],
   "source": [
    "network = Network()\n",
    "train_loader = torch.utils.data.DataLoader(train_set, batch_size=100)\n",
    "\n",
    "optimizer = optim.Adam(network.parameters(), lr=0.01)\n",
    "\n",
    "batch = next(iter(train_loader)) # Get Batch\n",
    "images, labels = batch\n",
    "\n",
    "preds = network(images) # Pass Batch\n",
    "loss = F.cross_entropy(preds, labels) # Calculate Loss\n",
    "\n",
    "loss.backward() # Calculate Gradients\n",
    "optimizer.step() # Update Weights\n",
    "\n",
    "print(loss.item())\n",
    "preds = network(images)\n",
    "loss = F.cross_entropy(preds, labels)\n",
    "print(loss.item())\n"
   ]
  },
  {
   "cell_type": "markdown",
   "metadata": {},
   "source": [
    "Starting out with TensorBoard"
   ]
  },
  {
   "cell_type": "code",
   "execution_count": 37,
   "metadata": {},
   "outputs": [
    {
     "name": "stdout",
     "output_type": "stream",
     "text": [
      "epoch: 0 total_correct: 47517 loss: 333.4685248732567\n"
     ]
    }
   ],
   "source": [
    "network = Network()\n",
    "\n",
    "train_loader = torch.utils.data.DataLoader(train_set, batch_size=100, shuffle=True)\n",
    "optimizer = optim.Adam(network.parameters(), lr=0.01)\n",
    "\n",
    "for epoch in range(1):\n",
    "    total_loss = 0\n",
    "    total_correct = 0\n",
    "\n",
    "    for batch in train_loader:\n",
    "        images, labels = batch\n",
    "\n",
    "        preds = network(images)\n",
    "        loss = F.cross_entropy(preds, labels)\n",
    "\n",
    "        optimizer.zero_grad()\n",
    "        loss.backward()\n",
    "        optimizer.step()\n",
    "\n",
    "        total_loss += loss.item()\n",
    "        total_correct += get_num_correct(preds, labels)\n",
    "\n",
    "    print(\"epoch:\", epoch, \"total_correct:\", total_correct, \"loss:\", total_loss)"
   ]
  },
  {
   "cell_type": "code",
   "execution_count": 38,
   "metadata": {},
   "outputs": [
    {
     "data": {
      "text/plain": [
       "0.79195"
      ]
     },
     "execution_count": 38,
     "metadata": {},
     "output_type": "execute_result"
    }
   ],
   "source": [
    "total_correct / len(train_set)"
   ]
  },
  {
   "cell_type": "markdown",
   "metadata": {},
   "source": [
    "Getting Predictions for the entire training set"
   ]
  },
  {
   "cell_type": "code",
   "execution_count": 39,
   "metadata": {},
   "outputs": [],
   "source": [
    "def get_all_preds(model, loader):\n",
    "    all_preds = torch.tensor([])\n",
    "    for batch in loader:\n",
    "        images, labels = batch\n",
    "        \n",
    "        preds = model(images)\n",
    "        all_preds = torch.cat(\n",
    "            (all_preds, preds)\n",
    "            , dim=0\n",
    "        )\n",
    "        \n",
    "    return all_preds"
   ]
  },
  {
   "cell_type": "code",
   "execution_count": 40,
   "metadata": {},
   "outputs": [],
   "source": [
    "prediction_loader = torch.utils.data.DataLoader(train_set, batch_size=10000)\n",
    "train_preds = get_all_preds(network, prediction_loader)"
   ]
  },
  {
   "cell_type": "code",
   "execution_count": 41,
   "metadata": {},
   "outputs": [
    {
     "data": {
      "text/plain": [
       "torch.Size([60000, 10])"
      ]
     },
     "execution_count": 41,
     "metadata": {},
     "output_type": "execute_result"
    }
   ],
   "source": [
    "train_preds.shape"
   ]
  },
  {
   "cell_type": "code",
   "execution_count": 42,
   "metadata": {},
   "outputs": [
    {
     "name": "stdout",
     "output_type": "stream",
     "text": [
      "True\n"
     ]
    }
   ],
   "source": [
    "print(train_preds.requires_grad)"
   ]
  },
  {
   "cell_type": "code",
   "execution_count": 43,
   "metadata": {},
   "outputs": [],
   "source": [
    "train_preds.grad"
   ]
  },
  {
   "cell_type": "code",
   "execution_count": 44,
   "metadata": {},
   "outputs": [
    {
     "data": {
      "text/plain": [
       "<CatBackward at 0x7f294ece48>"
      ]
     },
     "execution_count": 44,
     "metadata": {},
     "output_type": "execute_result"
    }
   ],
   "source": [
    "train_preds.grad_fn"
   ]
  },
  {
   "cell_type": "code",
   "execution_count": 45,
   "metadata": {},
   "outputs": [],
   "source": [
    "# with torch.no_grad():\n",
    "#     prediction_loader = torch.utils.data.DataLoader(train_set, batch_size=10000)\n",
    "#     train_preds = get_all_preds(network, prediction_loader)"
   ]
  },
  {
   "cell_type": "code",
   "execution_count": 46,
   "metadata": {},
   "outputs": [
    {
     "name": "stdout",
     "output_type": "stream",
     "text": [
      "True\n"
     ]
    }
   ],
   "source": [
    "print(train_preds.requires_grad)"
   ]
  },
  {
   "cell_type": "code",
   "execution_count": 47,
   "metadata": {},
   "outputs": [],
   "source": [
    "train_preds.grad"
   ]
  },
  {
   "cell_type": "code",
   "execution_count": 48,
   "metadata": {},
   "outputs": [
    {
     "data": {
      "text/plain": [
       "<CatBackward at 0x7f294ece48>"
      ]
     },
     "execution_count": 48,
     "metadata": {},
     "output_type": "execute_result"
    }
   ],
   "source": [
    "train_preds.grad_fn"
   ]
  },
  {
   "cell_type": "code",
   "execution_count": 49,
   "metadata": {},
   "outputs": [
    {
     "name": "stdout",
     "output_type": "stream",
     "text": [
      "total_correct: 49955\n",
      "accuracy: 0.8325833333333333\n"
     ]
    }
   ],
   "source": [
    "preds_correct = get_num_correct(train_preds, train_set.targets)\n",
    "\n",
    "print('total_correct:', preds_correct)\n",
    "print('accuracy:', preds_correct / len(train_set))"
   ]
  },
  {
   "cell_type": "markdown",
   "metadata": {},
   "source": [
    "Building confusing matrix"
   ]
  },
  {
   "cell_type": "code",
   "execution_count": 50,
   "metadata": {},
   "outputs": [
    {
     "name": "stdout",
     "output_type": "stream",
     "text": [
      "tensor([9, 0, 0,  ..., 3, 0, 5])\n",
      "tensor([9, 0, 3,  ..., 3, 0, 5])\n"
     ]
    }
   ],
   "source": [
    "print(train_set.targets)\n",
    "print(train_preds.argmax(dim=1))"
   ]
  },
  {
   "cell_type": "code",
   "execution_count": 51,
   "metadata": {},
   "outputs": [],
   "source": [
    "stacked = torch.stack(\n",
    "    (\n",
    "        train_set.targets #true label\n",
    "        ,train_preds.argmax(dim=1) # predicted label\n",
    "        )\n",
    "        ,dim=1\n",
    ")"
   ]
  },
  {
   "cell_type": "code",
   "execution_count": 52,
   "metadata": {},
   "outputs": [
    {
     "name": "stdout",
     "output_type": "stream",
     "text": [
      "torch.Size([60000, 2])\n",
      "tensor([[9, 9],\n",
      "        [0, 0],\n",
      "        [0, 3],\n",
      "        ...,\n",
      "        [3, 3],\n",
      "        [0, 0],\n",
      "        [5, 5]])\n",
      "[9, 9]\n"
     ]
    }
   ],
   "source": [
    "print(stacked.shape)\n",
    "print(stacked)\n",
    "print(stacked[0].tolist())\n",
    "cmt = torch.zeros(10,10,dtype=torch.int32)"
   ]
  },
  {
   "cell_type": "code",
   "execution_count": 53,
   "metadata": {},
   "outputs": [],
   "source": [
    "for p in stacked:\n",
    "    true_label, predicted_label = p.tolist()\n",
    "    cmt[true_label, predicted_label] = cmt[true_label, predicted_label] + 1"
   ]
  },
  {
   "cell_type": "code",
   "execution_count": 67,
   "metadata": {},
   "outputs": [
    {
     "data": {
      "text/plain": [
       "tensor([[5183,   33,   61,  145,   50,    7,  400,    0,  120,    1],\n",
       "        [  11, 5857,    2,   70,   29,    1,   17,    0,   13,    0],\n",
       "        [  44,    7, 3092,   22, 1950,    0,  798,    2,   85,    0],\n",
       "        [ 319,   82,    6, 4886,  561,    0,  116,    0,   23,    7],\n",
       "        [   7,    7,  103,   67, 5409,    0,  330,    0,   76,    1],\n",
       "        [   0,    0,    0,    0,    0, 5092,    0,  633,   28,  247],\n",
       "        [1339,   34,  232,   86, 1081,    1, 3049,    0,  177,    1],\n",
       "        [   0,    0,    0,    0,    0,   13,    0, 5780,    5,  202],\n",
       "        [  14,    2,   11,   21,   37,    7,   20,   21, 5861,    6],\n",
       "        [   0,    0,    0,    0,    0,    4,    0,  246,    4, 5746]], dtype=torch.int32)"
      ]
     },
     "execution_count": 67,
     "metadata": {},
     "output_type": "execute_result"
    }
   ],
   "source": [
    "cmt"
   ]
  },
  {
   "cell_type": "markdown",
   "metadata": {},
   "source": [
    "Ploting a confustion matrix"
   ]
  },
  {
   "cell_type": "code",
   "execution_count": 71,
   "metadata": {},
   "outputs": [
    {
     "name": "stdout",
     "output_type": "stream",
     "text": [
      "<class 'numpy.ndarray'>\n"
     ]
    }
   ],
   "source": [
    "cm = confusion_matrix(train_set.targets, train_preds.argmax(dim=1))\n",
    "print(type(cm))"
   ]
  },
  {
   "cell_type": "code",
   "execution_count": 72,
   "metadata": {},
   "outputs": [
    {
     "name": "stdout",
     "output_type": "stream",
     "text": [
      "Confusion matrix, without normalization\n",
      "[[5183   33   61  145   50    7  400    0  120    1]\n",
      " [  11 5857    2   70   29    1   17    0   13    0]\n",
      " [  44    7 3092   22 1950    0  798    2   85    0]\n",
      " [ 319   82    6 4886  561    0  116    0   23    7]\n",
      " [   7    7  103   67 5409    0  330    0   76    1]\n",
      " [   0    0    0    0    0 5092    0  633   28  247]\n",
      " [1339   34  232   86 1081    1 3049    0  177    1]\n",
      " [   0    0    0    0    0   13    0 5780    5  202]\n",
      " [  14    2   11   21   37    7   20   21 5861    6]\n",
      " [   0    0    0    0    0    4    0  246    4 5746]]\n"
     ]
    },
    {
     "data": {
      "image/png": "[encoded data removed]",
      "text/plain": [
       "<Figure size 720x720 with 2 Axes>"
      ]
     },
     "metadata": {
      "needs_background": "light"
     },
     "output_type": "display_data"
    }
   ],
   "source": [
    "names = ('T-shirt/top', 'Trouser', 'Pullover', 'Dress','Coat','Sandal','Shirt','Sneaker','Bag','Ankle boot')\n",
    "plt.figure(figsize=(10,10))\n",
    "plot_confusion_matrix(cm, names)"
   ]
  },
  {
   "cell_type": "code",
   "execution_count": 8,
   "metadata": {},
   "outputs": [],
   "source": [
    "tb = SummaryWriter()\n",
    "network = Network()\n",
    "images, labels = next(iter(train_loader))\n",
    "grid = torchvision.utils.make_grid(images)\n",
    "\n",
    "tb.add_image('images', grid)\n",
    "tb.add_graph(network, images)\n",
    "tb.close()"
   ]
  },
  {
   "cell_type": "code",
   "execution_count": 7,
   "metadata": {},
   "outputs": [],
   "source": [
    "batch_size_list = [100, 1000, 10000]\n",
    "lr_list = [0.01, 0.001, 0.0001, 0.00001]"
   ]
  },
  {
   "cell_type": "code",
   "execution_count": 5,
   "metadata": {},
   "outputs": [],
   "source": [
    "parameters = dict(\n",
    "    lr = [0.01, 0.001]\n",
    "    ,batch_size = [10, 100, 1000]\n",
    "    ,shuffle = [True, False])"
   ]
  },
  {
   "cell_type": "code",
   "execution_count": 10,
   "metadata": {},
   "outputs": [
    {
     "name": "stdout",
     "output_type": "stream",
     "text": [
      "0.01 10 True\n",
      "0.01 10 False\n",
      "0.01 100 True\n",
      "0.01 100 False\n",
      "0.01 1000 True\n",
      "0.01 1000 False\n",
      "0.001 10 True\n",
      "0.001 10 False\n",
      "0.001 100 True\n",
      "0.001 100 False\n",
      "0.001 1000 True\n",
      "0.001 1000 False\n"
     ]
    }
   ],
   "source": [
    "param_values = [v for v in parameters.values()]\n",
    "for lr, batch_size, shuffle in product(*param_values):\n",
    "    print(lr, batch_size, shuffle)"
   ]
  },
  {
   "cell_type": "code",
   "execution_count": 6,
   "metadata": {},
   "outputs": [
    {
     "name": "stdout",
     "output_type": "stream",
     "text": [
      "epoch: 0 total_correct: 46439 loss: 37137.79315833468\n",
      "epoch: 1 total_correct: 48930 loss: 30869.782937364653\n",
      "epoch: 2 total_correct: 49239 loss: 30385.74317484279\n",
      "epoch: 0 total_correct: 45437 loss: 38370.33829132095\n",
      "epoch: 1 total_correct: 48229 loss: 32456.187443798408\n",
      "epoch: 2 total_correct: 48516 loss: 31676.999694765545\n",
      "epoch: 0 total_correct: 46786 loss: 34267.22459793091\n",
      "epoch: 1 total_correct: 51486 loss: 22973.275902867317\n",
      "epoch: 2 total_correct: 52118 loss: 21150.749896466732\n",
      "epoch: 0 total_correct: 47909 loss: 32323.088379204273\n",
      "epoch: 1 total_correct: 51778 loss: 22301.018196344376\n",
      "epoch: 2 total_correct: 52338 loss: 20593.705022335052\n",
      "epoch: 0 total_correct: 37681 loss: 58155.1833152771\n",
      "epoch: 1 total_correct: 47306 loss: 31584.15114879608\n",
      "epoch: 2 total_correct: 50154 loss: 26130.83752989769\n",
      "epoch: 0 total_correct: 37485 loss: 58229.429721832275\n",
      "epoch: 1 total_correct: 48562 loss: 30156.63117170334\n",
      "epoch: 2 total_correct: 50985 loss: 24386.69952750206\n",
      "epoch: 0 total_correct: 47176 loss: 34336.28778964281\n",
      "epoch: 1 total_correct: 51824 loss: 22449.369689854793\n",
      "epoch: 2 total_correct: 52833 loss: 19602.180914687924\n",
      "epoch: 0 total_correct: 47267 loss: 33803.23362480849\n",
      "epoch: 1 total_correct: 51750 loss: 22194.974143328145\n",
      "epoch: 2 total_correct: 52788 loss: 19524.243870858336\n",
      "epoch: 0 total_correct: 41740 loss: 49106.782510876656\n",
      "epoch: 1 total_correct: 48070 loss: 31701.511257886887\n",
      "epoch: 2 total_correct: 49984 loss: 27374.725653231144\n",
      "epoch: 0 total_correct: 42432 loss: 46409.204748272896\n",
      "epoch: 1 total_correct: 48504 loss: 30360.307559370995\n",
      "epoch: 2 total_correct: 50203 loss: 26308.595192432404\n",
      "epoch: 0 total_correct: 28258 loss: 97113.87097835541\n",
      "epoch: 1 total_correct: 42208 loss: 46314.95797634125\n",
      "epoch: 2 total_correct: 45105 loss: 38942.96717643738\n",
      "epoch: 0 total_correct: 25507 loss: 97991.68556928635\n",
      "epoch: 1 total_correct: 42954 loss: 45440.28425216675\n",
      "epoch: 2 total_correct: 45258 loss: 38227.69021987915\n"
     ]
    }
   ],
   "source": [
    "# for batch_size in batch_size_list:\n",
    "#     for lr in lr_list:\n",
    "param_values = [v for v in parameters.values()]\n",
    "for lr, batch_size, shuffle in product(*param_values):\n",
    "    network = Network()\n",
    "\n",
    "    train_loader = torch.utils.data.DataLoader(train_set, batch_size=batch_size, shuffle=shuffle)\n",
    "    optimizer = optim.Adam(network.parameters(), lr=lr)\n",
    "\n",
    "    images, labels = next(iter(train_loader))\n",
    "    grid = torchvision.utils.make_grid(images)\n",
    "\n",
    "    comment = f' batch_size={batch_size} lr={lr} shuffle={shuffle}'\n",
    "    tb = SummaryWriter(comment=comment)\n",
    "\n",
    "    tb.add_image('images', grid)\n",
    "    tb.add_graph(network, images)\n",
    "\n",
    "    for epoch in range(3):\n",
    "        total_loss = 0\n",
    "        total_correct = 0\n",
    "\n",
    "        for batch in train_loader:\n",
    "            images, labels = batch\n",
    "\n",
    "            preds = network(images)\n",
    "            loss = F.cross_entropy(preds, labels)\n",
    "\n",
    "            optimizer.zero_grad()\n",
    "            loss.backward()\n",
    "            optimizer.step()\n",
    "\n",
    "            total_loss += loss.item() * batch_size\n",
    "            total_correct += get_num_correct(preds, labels)\n",
    "\n",
    "        tb.add_scalar('Loss', total_loss, epoch)\n",
    "        tb.add_scalar('Number Correct', total_correct, epoch)\n",
    "        tb.add_scalar('Accuracy', total_correct / len(train_set), epoch)\n",
    "\n",
    "    #     tb.add_histogram('conv1.bias', network.conv1.bias, epoch)\n",
    "    #     tb.add_histogram('conv1.weight', network.conv1.weight, epoch)\n",
    "    #     tb.add_histogram('conv1.weight.grad', network.conv1.weight.grad, epoch)\n",
    "\n",
    "        for name, weight in network.named_parameters():\n",
    "            tb.add_histogram(name, weight, epoch)\n",
    "            tb.add_histogram(f'{name}.grad', weight.grad, epoch)\n",
    "\n",
    "        print(\"epoch:\", epoch, \"total_correct:\", total_correct, \"loss:\", total_loss)\n",
    "tb.close()"
   ]
  },
  {
   "cell_type": "code",
   "execution_count": 10,
   "metadata": {},
   "outputs": [],
   "source": [
    "class RunBuilder():\n",
    "    @staticmethod\n",
    "    def get_runs(params):\n",
    "        Run = namedtuple('Run', params.keys())\n",
    "        \n",
    "        runs = []\n",
    "        for v in product(*params.values()):\n",
    "            runs.append(Run(*v))\n",
    "        return runs"
   ]
  },
  {
   "cell_type": "code",
   "execution_count": 16,
   "metadata": {},
   "outputs": [],
   "source": [
    "params = OrderedDict(\n",
    "    lr = [0.01, 0.001]\n",
    "    ,batch_size = [1000, 10000]\n",
    "    ,shuffle = [True, False]\n",
    ")"
   ]
  },
  {
   "cell_type": "code",
   "execution_count": 17,
   "metadata": {},
   "outputs": [
    {
     "name": "stdout",
     "output_type": "stream",
     "text": [
      "Run(lr=0.01, batch_size=1000, shuffle=True) 0.01 1000\n",
      "Run(lr=0.01, batch_size=1000, shuffle=False) 0.01 1000\n",
      "Run(lr=0.01, batch_size=10000, shuffle=True) 0.01 10000\n",
      "Run(lr=0.01, batch_size=10000, shuffle=False) 0.01 10000\n",
      "Run(lr=0.001, batch_size=1000, shuffle=True) 0.001 1000\n",
      "Run(lr=0.001, batch_size=1000, shuffle=False) 0.001 1000\n",
      "Run(lr=0.001, batch_size=10000, shuffle=True) 0.001 10000\n",
      "Run(lr=0.001, batch_size=10000, shuffle=False) 0.001 10000\n"
     ]
    }
   ],
   "source": [
    "runs = RunBuilder.get_runs(params)\n",
    "for run in runs:\n",
    "    print(run, run.lr, run.batch_size)"
   ]
  },
  {
   "cell_type": "code",
   "execution_count": 18,
   "metadata": {},
   "outputs": [
    {
     "data": {
      "text/plain": [
       "[Run(lr=0.01, batch_size=1000, shuffle=True),\n",
       " Run(lr=0.01, batch_size=1000, shuffle=False),\n",
       " Run(lr=0.01, batch_size=10000, shuffle=True),\n",
       " Run(lr=0.01, batch_size=10000, shuffle=False),\n",
       " Run(lr=0.001, batch_size=1000, shuffle=True),\n",
       " Run(lr=0.001, batch_size=1000, shuffle=False),\n",
       " Run(lr=0.001, batch_size=10000, shuffle=True),\n",
       " Run(lr=0.001, batch_size=10000, shuffle=False)]"
      ]
     },
     "execution_count": 18,
     "metadata": {},
     "output_type": "execute_result"
    }
   ],
   "source": [
    "Run = namedtuple('Run', params.keys())\n",
    "\n",
    "runs = []\n",
    "for v in product(*params.values()):\n",
    "    runs.append(Run(*v))\n",
    "runs"
   ]
  },
  {
   "cell_type": "code",
   "execution_count": 21,
   "metadata": {},
   "outputs": [
    {
     "name": "stdout",
     "output_type": "stream",
     "text": [
      "epoch: 0 total_correct: 36138 loss: 62203.98932695389\n",
      "epoch: 1 total_correct: 46137 loss: 35604.95084524155\n",
      "epoch: 0 total_correct: 36468 loss: 61815.98389148712\n",
      "epoch: 1 total_correct: 47289 loss: 32812.493950128555\n",
      "epoch: 0 total_correct: 11367 loss: 12538.208723068237\n",
      "epoch: 1 total_correct: 26232 loss: 8775.149941444397\n",
      "epoch: 0 total_correct: 16367 loss: 12596.52328491211\n",
      "epoch: 1 total_correct: 26105 loss: 8853.223204612732\n",
      "epoch: 0 total_correct: 27249 loss: 95692.86143779755\n",
      "epoch: 1 total_correct: 41475 loss: 48863.76595497131\n",
      "epoch: 0 total_correct: 28263 loss: 94926.1873960495\n",
      "epoch: 1 total_correct: 41435 loss: 48510.17051935196\n",
      "epoch: 0 total_correct: 6961 loss: 13749.882459640503\n",
      "epoch: 1 total_correct: 12916 loss: 13435.518503189087\n",
      "epoch: 0 total_correct: 6000 loss: 13809.469938278198\n",
      "epoch: 1 total_correct: 10319 loss: 13708.95767211914\n"
     ]
    }
   ],
   "source": [
    "for run in RunBuilder.get_runs(params):\n",
    "    network = Network()\n",
    "\n",
    "    train_loader = torch.utils.data.DataLoader(train_set, batch_size=run.batch_size, shuffle=run.shuffle)\n",
    "    optimizer = optim.Adam(network.parameters(), lr=run.lr)\n",
    "\n",
    "    images, labels = next(iter(train_loader))\n",
    "    grid = torchvision.utils.make_grid(images)\n",
    "\n",
    "    comment = f'-{run}'\n",
    "#     print(comment)\n",
    "#     print(run.batch_size, run.shuffle, run.lr)\n",
    "    tb = SummaryWriter(comment=comment)\n",
    "\n",
    "    tb.add_image('images', grid)\n",
    "    tb.add_graph(network, images)\n",
    "\n",
    "    for epoch in range(2):\n",
    "        total_loss = 0\n",
    "        total_correct = 0\n",
    "\n",
    "        for batch in train_loader:\n",
    "            images, labels = batch\n",
    "\n",
    "            preds = network(images)\n",
    "            loss = F.cross_entropy(preds, labels)\n",
    "\n",
    "            optimizer.zero_grad()\n",
    "            loss.backward()\n",
    "            optimizer.step()\n",
    "\n",
    "            total_loss += loss.item() * batch_size\n",
    "            total_correct += get_num_correct(preds, labels)\n",
    "\n",
    "        tb.add_scalar('Loss', total_loss, epoch)\n",
    "        tb.add_scalar('Number Correct', total_correct, epoch)\n",
    "        tb.add_scalar('Accuracy', total_correct / len(train_set), epoch)\n",
    "\n",
    "        for name, weight in network.named_parameters():\n",
    "            tb.add_histogram(name, weight, epoch)\n",
    "            tb.add_histogram(f'{name}.grad', weight.grad, epoch)\n",
    "\n",
    "        print(\"epoch:\", epoch, \"total_correct:\", total_correct, \"loss:\", total_loss)\n",
    "tb.close()"
   ]
  },
  {
   "cell_type": "code",
   "execution_count": 39,
   "metadata": {},
   "outputs": [],
   "source": [
    "class RunManager():\n",
    "    def __init__(self):\n",
    "        \n",
    "        self.epoch_count = 0\n",
    "        self.epoch_loss = 0\n",
    "        self.epoch_num_correct = 0\n",
    "        self.epoch_start_time = None\n",
    "        \n",
    "        self.run_params = None\n",
    "        self.run_count = 0\n",
    "        self.run_data = []\n",
    "        self.run_start_time = None\n",
    "        \n",
    "        self.network = None\n",
    "        self.loader = None\n",
    "        self.tb = None\n",
    "        \n",
    "    def begin_run(self, run, network, loader):\n",
    "        self.run_start_time = time.time()\n",
    "        \n",
    "        self.run_params = run\n",
    "        self.run_count += 1\n",
    "        \n",
    "        self.network = network\n",
    "        self.loader = loader\n",
    "        self.tb = SummaryWriter(comment=f'-{run}')\n",
    "        \n",
    "        images, labels = next(iter(self.loader))\n",
    "        grid = torchvision.utils.make_grid(images)\n",
    "        \n",
    "        self.tb.add_image('image', grid)\n",
    "        self.tb.add_graph(self.network, images)\n",
    "        \n",
    "    def end_run(self):\n",
    "        self.tb.close()\n",
    "        self.epoch_count = 0\n",
    "        \n",
    "    def begin_epoch(self):\n",
    "        self.epoch_start_time = time.time()\n",
    "        \n",
    "        self.epoch_count += 1\n",
    "        self.epoch_loss = 0\n",
    "        self.epoch_num_correct = 0\n",
    "        \n",
    "    def end_epoch(self):\n",
    "        epoch_duration = time.time() - self.epoch_start_time\n",
    "        run_duration = time.time() - self.run_start_time\n",
    "        \n",
    "        loss = self.epoch_loss / len(self.loader.dataset)\n",
    "        accuracy = self.epoch_num_correct / len(self.loader.dataset)\n",
    "        \n",
    "        self.tb.add_scalar('Loss', loss, self.epoch_count)\n",
    "        self.tb.add_scalar('Accuracy', accuracy, self.epoch_count)\n",
    "        \n",
    "        for name, weight in network.named_parameters():\n",
    "            self.tb.add_histogram(name, weight, self.epoch_count)\n",
    "            self.tb.add_histogram(f'{name}.grad', weight.grad, self.epoch_count)\n",
    "            \n",
    "            results = OrderedDict()\n",
    "            results[\"run\"] = self.run_count\n",
    "            results[\"epoch\"] = self.epoch_count\n",
    "            results[\"loss\"] = loss\n",
    "            results[\"accuracy\"] = accuracy\n",
    "            results[\"epoch duration\"] = epoch_duration\n",
    "            results[\"run duration\"] = run_duration\n",
    "            \n",
    "            for k,v in self.run_params._asdict().items(): results[k] = v\n",
    "            self.run_data.append(results)\n",
    "            df = pd.DataFrame.from_dict(self.run_data, orient='columns')\n",
    "            \n",
    "            # Jupiter housekeeping to update results\n",
    "            clear_output(wait=True)\n",
    "            display(df)\n",
    "            \n",
    "    def track_loss(self, loss):\n",
    "        self.epoch_loss += loss.item() * self.loader.batch_size\n",
    "\n",
    "    def track_num_correct(self, preds, labels):\n",
    "        self.epoch_num_correct += self._get_num_correct(preds, labels)\n",
    "\n",
    "    def _get_num_correct(self, preds, labels):\n",
    "        return preds.argmax(dim=1).eq(labels).sum().item()\n",
    "\n",
    "    def save(self, fileName):\n",
    "        pd.DataFrame.from_dict(\n",
    "            self.run_data, orient='columns'\n",
    "        ).to_csv(f'{fileName}.csv')\n",
    "\n",
    "        with open(f'{fileName}.json', 'w', encoding='utf-8') as f:\n",
    "            json.dump(self.run_data, f, ensure_ascii=False, indent=4)"
   ]
  },
  {
   "cell_type": "code",
   "execution_count": 42,
   "metadata": {},
   "outputs": [
    {
     "data": {
      "text/html": [
       "<div>\n",
       "<style scoped>\n",
       "    .dataframe tbody tr th:only-of-type {\n",
       "        vertical-align: middle;\n",
       "    }\n",
       "\n",
       "    .dataframe tbody tr th {\n",
       "        vertical-align: top;\n",
       "    }\n",
       "\n",
       "    .dataframe thead th {\n",
       "        text-align: right;\n",
       "    }\n",
       "</style>\n",
       "<table border=\"1\" class=\"dataframe\">\n",
       "  <thead>\n",
       "    <tr style=\"text-align: right;\">\n",
       "      <th></th>\n",
       "      <th>run</th>\n",
       "      <th>epoch</th>\n",
       "      <th>loss</th>\n",
       "      <th>accuracy</th>\n",
       "      <th>epoch duration</th>\n",
       "      <th>run duration</th>\n",
       "      <th>lr</th>\n",
       "      <th>batch_size</th>\n",
       "      <th>num_workers</th>\n",
       "    </tr>\n",
       "  </thead>\n",
       "  <tbody>\n",
       "    <tr>\n",
       "      <th>0</th>\n",
       "      <td>1</td>\n",
       "      <td>1</td>\n",
       "      <td>1.996312</td>\n",
       "      <td>0.621950</td>\n",
       "      <td>41.464276</td>\n",
       "      <td>45.221494</td>\n",
       "      <td>0.01</td>\n",
       "      <td>1000</td>\n",
       "      <td>0</td>\n",
       "    </tr>\n",
       "    <tr>\n",
       "      <th>1</th>\n",
       "      <td>1</td>\n",
       "      <td>1</td>\n",
       "      <td>1.996312</td>\n",
       "      <td>0.621950</td>\n",
       "      <td>41.464276</td>\n",
       "      <td>45.221494</td>\n",
       "      <td>0.01</td>\n",
       "      <td>1000</td>\n",
       "      <td>0</td>\n",
       "    </tr>\n",
       "    <tr>\n",
       "      <th>2</th>\n",
       "      <td>1</td>\n",
       "      <td>1</td>\n",
       "      <td>1.996312</td>\n",
       "      <td>0.621950</td>\n",
       "      <td>41.464276</td>\n",
       "      <td>45.221494</td>\n",
       "      <td>0.01</td>\n",
       "      <td>1000</td>\n",
       "      <td>0</td>\n",
       "    </tr>\n",
       "    <tr>\n",
       "      <th>3</th>\n",
       "      <td>1</td>\n",
       "      <td>1</td>\n",
       "      <td>1.996312</td>\n",
       "      <td>0.621950</td>\n",
       "      <td>41.464276</td>\n",
       "      <td>45.221494</td>\n",
       "      <td>0.01</td>\n",
       "      <td>1000</td>\n",
       "      <td>0</td>\n",
       "    </tr>\n",
       "    <tr>\n",
       "      <th>4</th>\n",
       "      <td>1</td>\n",
       "      <td>1</td>\n",
       "      <td>1.996312</td>\n",
       "      <td>0.621950</td>\n",
       "      <td>41.464276</td>\n",
       "      <td>45.221494</td>\n",
       "      <td>0.01</td>\n",
       "      <td>1000</td>\n",
       "      <td>0</td>\n",
       "    </tr>\n",
       "    <tr>\n",
       "      <th>5</th>\n",
       "      <td>1</td>\n",
       "      <td>1</td>\n",
       "      <td>1.996312</td>\n",
       "      <td>0.621950</td>\n",
       "      <td>41.464276</td>\n",
       "      <td>45.221494</td>\n",
       "      <td>0.01</td>\n",
       "      <td>1000</td>\n",
       "      <td>0</td>\n",
       "    </tr>\n",
       "    <tr>\n",
       "      <th>6</th>\n",
       "      <td>1</td>\n",
       "      <td>1</td>\n",
       "      <td>1.996312</td>\n",
       "      <td>0.621950</td>\n",
       "      <td>41.464276</td>\n",
       "      <td>45.221494</td>\n",
       "      <td>0.01</td>\n",
       "      <td>1000</td>\n",
       "      <td>0</td>\n",
       "    </tr>\n",
       "    <tr>\n",
       "      <th>7</th>\n",
       "      <td>1</td>\n",
       "      <td>1</td>\n",
       "      <td>1.996312</td>\n",
       "      <td>0.621950</td>\n",
       "      <td>41.464276</td>\n",
       "      <td>45.221494</td>\n",
       "      <td>0.01</td>\n",
       "      <td>1000</td>\n",
       "      <td>0</td>\n",
       "    </tr>\n",
       "    <tr>\n",
       "      <th>8</th>\n",
       "      <td>1</td>\n",
       "      <td>1</td>\n",
       "      <td>1.996312</td>\n",
       "      <td>0.621950</td>\n",
       "      <td>41.464276</td>\n",
       "      <td>45.221494</td>\n",
       "      <td>0.01</td>\n",
       "      <td>1000</td>\n",
       "      <td>0</td>\n",
       "    </tr>\n",
       "    <tr>\n",
       "      <th>9</th>\n",
       "      <td>1</td>\n",
       "      <td>1</td>\n",
       "      <td>1.996312</td>\n",
       "      <td>0.621950</td>\n",
       "      <td>41.464276</td>\n",
       "      <td>45.221494</td>\n",
       "      <td>0.01</td>\n",
       "      <td>1000</td>\n",
       "      <td>0</td>\n",
       "    </tr>\n",
       "    <tr>\n",
       "      <th>10</th>\n",
       "      <td>2</td>\n",
       "      <td>1</td>\n",
       "      <td>2.019494</td>\n",
       "      <td>0.610467</td>\n",
       "      <td>33.030518</td>\n",
       "      <td>36.756334</td>\n",
       "      <td>0.01</td>\n",
       "      <td>1000</td>\n",
       "      <td>1</td>\n",
       "    </tr>\n",
       "    <tr>\n",
       "      <th>11</th>\n",
       "      <td>2</td>\n",
       "      <td>1</td>\n",
       "      <td>2.019494</td>\n",
       "      <td>0.610467</td>\n",
       "      <td>33.030518</td>\n",
       "      <td>36.756334</td>\n",
       "      <td>0.01</td>\n",
       "      <td>1000</td>\n",
       "      <td>1</td>\n",
       "    </tr>\n",
       "    <tr>\n",
       "      <th>12</th>\n",
       "      <td>2</td>\n",
       "      <td>1</td>\n",
       "      <td>2.019494</td>\n",
       "      <td>0.610467</td>\n",
       "      <td>33.030518</td>\n",
       "      <td>36.756334</td>\n",
       "      <td>0.01</td>\n",
       "      <td>1000</td>\n",
       "      <td>1</td>\n",
       "    </tr>\n",
       "    <tr>\n",
       "      <th>13</th>\n",
       "      <td>2</td>\n",
       "      <td>1</td>\n",
       "      <td>2.019494</td>\n",
       "      <td>0.610467</td>\n",
       "      <td>33.030518</td>\n",
       "      <td>36.756334</td>\n",
       "      <td>0.01</td>\n",
       "      <td>1000</td>\n",
       "      <td>1</td>\n",
       "    </tr>\n",
       "    <tr>\n",
       "      <th>14</th>\n",
       "      <td>2</td>\n",
       "      <td>1</td>\n",
       "      <td>2.019494</td>\n",
       "      <td>0.610467</td>\n",
       "      <td>33.030518</td>\n",
       "      <td>36.756334</td>\n",
       "      <td>0.01</td>\n",
       "      <td>1000</td>\n",
       "      <td>1</td>\n",
       "    </tr>\n",
       "    <tr>\n",
       "      <th>15</th>\n",
       "      <td>2</td>\n",
       "      <td>1</td>\n",
       "      <td>2.019494</td>\n",
       "      <td>0.610467</td>\n",
       "      <td>33.030518</td>\n",
       "      <td>36.756334</td>\n",
       "      <td>0.01</td>\n",
       "      <td>1000</td>\n",
       "      <td>1</td>\n",
       "    </tr>\n",
       "    <tr>\n",
       "      <th>16</th>\n",
       "      <td>2</td>\n",
       "      <td>1</td>\n",
       "      <td>2.019494</td>\n",
       "      <td>0.610467</td>\n",
       "      <td>33.030518</td>\n",
       "      <td>36.756334</td>\n",
       "      <td>0.01</td>\n",
       "      <td>1000</td>\n",
       "      <td>1</td>\n",
       "    </tr>\n",
       "    <tr>\n",
       "      <th>17</th>\n",
       "      <td>2</td>\n",
       "      <td>1</td>\n",
       "      <td>2.019494</td>\n",
       "      <td>0.610467</td>\n",
       "      <td>33.030518</td>\n",
       "      <td>36.756334</td>\n",
       "      <td>0.01</td>\n",
       "      <td>1000</td>\n",
       "      <td>1</td>\n",
       "    </tr>\n",
       "    <tr>\n",
       "      <th>18</th>\n",
       "      <td>2</td>\n",
       "      <td>1</td>\n",
       "      <td>2.019494</td>\n",
       "      <td>0.610467</td>\n",
       "      <td>33.030518</td>\n",
       "      <td>36.756334</td>\n",
       "      <td>0.01</td>\n",
       "      <td>1000</td>\n",
       "      <td>1</td>\n",
       "    </tr>\n",
       "    <tr>\n",
       "      <th>19</th>\n",
       "      <td>2</td>\n",
       "      <td>1</td>\n",
       "      <td>2.019494</td>\n",
       "      <td>0.610467</td>\n",
       "      <td>33.030518</td>\n",
       "      <td>36.756334</td>\n",
       "      <td>0.01</td>\n",
       "      <td>1000</td>\n",
       "      <td>1</td>\n",
       "    </tr>\n",
       "    <tr>\n",
       "      <th>20</th>\n",
       "      <td>3</td>\n",
       "      <td>1</td>\n",
       "      <td>1.910202</td>\n",
       "      <td>0.633367</td>\n",
       "      <td>34.067068</td>\n",
       "      <td>37.991518</td>\n",
       "      <td>0.01</td>\n",
       "      <td>1000</td>\n",
       "      <td>2</td>\n",
       "    </tr>\n",
       "    <tr>\n",
       "      <th>21</th>\n",
       "      <td>3</td>\n",
       "      <td>1</td>\n",
       "      <td>1.910202</td>\n",
       "      <td>0.633367</td>\n",
       "      <td>34.067068</td>\n",
       "      <td>37.991518</td>\n",
       "      <td>0.01</td>\n",
       "      <td>1000</td>\n",
       "      <td>2</td>\n",
       "    </tr>\n",
       "    <tr>\n",
       "      <th>22</th>\n",
       "      <td>3</td>\n",
       "      <td>1</td>\n",
       "      <td>1.910202</td>\n",
       "      <td>0.633367</td>\n",
       "      <td>34.067068</td>\n",
       "      <td>37.991518</td>\n",
       "      <td>0.01</td>\n",
       "      <td>1000</td>\n",
       "      <td>2</td>\n",
       "    </tr>\n",
       "    <tr>\n",
       "      <th>23</th>\n",
       "      <td>3</td>\n",
       "      <td>1</td>\n",
       "      <td>1.910202</td>\n",
       "      <td>0.633367</td>\n",
       "      <td>34.067068</td>\n",
       "      <td>37.991518</td>\n",
       "      <td>0.01</td>\n",
       "      <td>1000</td>\n",
       "      <td>2</td>\n",
       "    </tr>\n",
       "    <tr>\n",
       "      <th>24</th>\n",
       "      <td>3</td>\n",
       "      <td>1</td>\n",
       "      <td>1.910202</td>\n",
       "      <td>0.633367</td>\n",
       "      <td>34.067068</td>\n",
       "      <td>37.991518</td>\n",
       "      <td>0.01</td>\n",
       "      <td>1000</td>\n",
       "      <td>2</td>\n",
       "    </tr>\n",
       "    <tr>\n",
       "      <th>25</th>\n",
       "      <td>3</td>\n",
       "      <td>1</td>\n",
       "      <td>1.910202</td>\n",
       "      <td>0.633367</td>\n",
       "      <td>34.067068</td>\n",
       "      <td>37.991518</td>\n",
       "      <td>0.01</td>\n",
       "      <td>1000</td>\n",
       "      <td>2</td>\n",
       "    </tr>\n",
       "    <tr>\n",
       "      <th>26</th>\n",
       "      <td>3</td>\n",
       "      <td>1</td>\n",
       "      <td>1.910202</td>\n",
       "      <td>0.633367</td>\n",
       "      <td>34.067068</td>\n",
       "      <td>37.991518</td>\n",
       "      <td>0.01</td>\n",
       "      <td>1000</td>\n",
       "      <td>2</td>\n",
       "    </tr>\n",
       "    <tr>\n",
       "      <th>27</th>\n",
       "      <td>3</td>\n",
       "      <td>1</td>\n",
       "      <td>1.910202</td>\n",
       "      <td>0.633367</td>\n",
       "      <td>34.067068</td>\n",
       "      <td>37.991518</td>\n",
       "      <td>0.01</td>\n",
       "      <td>1000</td>\n",
       "      <td>2</td>\n",
       "    </tr>\n",
       "    <tr>\n",
       "      <th>28</th>\n",
       "      <td>3</td>\n",
       "      <td>1</td>\n",
       "      <td>1.910202</td>\n",
       "      <td>0.633367</td>\n",
       "      <td>34.067068</td>\n",
       "      <td>37.991518</td>\n",
       "      <td>0.01</td>\n",
       "      <td>1000</td>\n",
       "      <td>2</td>\n",
       "    </tr>\n",
       "    <tr>\n",
       "      <th>29</th>\n",
       "      <td>3</td>\n",
       "      <td>1</td>\n",
       "      <td>1.910202</td>\n",
       "      <td>0.633367</td>\n",
       "      <td>34.067068</td>\n",
       "      <td>37.991518</td>\n",
       "      <td>0.01</td>\n",
       "      <td>1000</td>\n",
       "      <td>2</td>\n",
       "    </tr>\n",
       "    <tr>\n",
       "      <th>30</th>\n",
       "      <td>4</td>\n",
       "      <td>1</td>\n",
       "      <td>2.133275</td>\n",
       "      <td>0.593017</td>\n",
       "      <td>32.306331</td>\n",
       "      <td>36.314027</td>\n",
       "      <td>0.01</td>\n",
       "      <td>1000</td>\n",
       "      <td>4</td>\n",
       "    </tr>\n",
       "    <tr>\n",
       "      <th>31</th>\n",
       "      <td>4</td>\n",
       "      <td>1</td>\n",
       "      <td>2.133275</td>\n",
       "      <td>0.593017</td>\n",
       "      <td>32.306331</td>\n",
       "      <td>36.314027</td>\n",
       "      <td>0.01</td>\n",
       "      <td>1000</td>\n",
       "      <td>4</td>\n",
       "    </tr>\n",
       "    <tr>\n",
       "      <th>32</th>\n",
       "      <td>4</td>\n",
       "      <td>1</td>\n",
       "      <td>2.133275</td>\n",
       "      <td>0.593017</td>\n",
       "      <td>32.306331</td>\n",
       "      <td>36.314027</td>\n",
       "      <td>0.01</td>\n",
       "      <td>1000</td>\n",
       "      <td>4</td>\n",
       "    </tr>\n",
       "    <tr>\n",
       "      <th>33</th>\n",
       "      <td>4</td>\n",
       "      <td>1</td>\n",
       "      <td>2.133275</td>\n",
       "      <td>0.593017</td>\n",
       "      <td>32.306331</td>\n",
       "      <td>36.314027</td>\n",
       "      <td>0.01</td>\n",
       "      <td>1000</td>\n",
       "      <td>4</td>\n",
       "    </tr>\n",
       "    <tr>\n",
       "      <th>34</th>\n",
       "      <td>4</td>\n",
       "      <td>1</td>\n",
       "      <td>2.133275</td>\n",
       "      <td>0.593017</td>\n",
       "      <td>32.306331</td>\n",
       "      <td>36.314027</td>\n",
       "      <td>0.01</td>\n",
       "      <td>1000</td>\n",
       "      <td>4</td>\n",
       "    </tr>\n",
       "    <tr>\n",
       "      <th>35</th>\n",
       "      <td>4</td>\n",
       "      <td>1</td>\n",
       "      <td>2.133275</td>\n",
       "      <td>0.593017</td>\n",
       "      <td>32.306331</td>\n",
       "      <td>36.314027</td>\n",
       "      <td>0.01</td>\n",
       "      <td>1000</td>\n",
       "      <td>4</td>\n",
       "    </tr>\n",
       "    <tr>\n",
       "      <th>36</th>\n",
       "      <td>4</td>\n",
       "      <td>1</td>\n",
       "      <td>2.133275</td>\n",
       "      <td>0.593017</td>\n",
       "      <td>32.306331</td>\n",
       "      <td>36.314027</td>\n",
       "      <td>0.01</td>\n",
       "      <td>1000</td>\n",
       "      <td>4</td>\n",
       "    </tr>\n",
       "    <tr>\n",
       "      <th>37</th>\n",
       "      <td>4</td>\n",
       "      <td>1</td>\n",
       "      <td>2.133275</td>\n",
       "      <td>0.593017</td>\n",
       "      <td>32.306331</td>\n",
       "      <td>36.314027</td>\n",
       "      <td>0.01</td>\n",
       "      <td>1000</td>\n",
       "      <td>4</td>\n",
       "    </tr>\n",
       "    <tr>\n",
       "      <th>38</th>\n",
       "      <td>4</td>\n",
       "      <td>1</td>\n",
       "      <td>2.133275</td>\n",
       "      <td>0.593017</td>\n",
       "      <td>32.306331</td>\n",
       "      <td>36.314027</td>\n",
       "      <td>0.01</td>\n",
       "      <td>1000</td>\n",
       "      <td>4</td>\n",
       "    </tr>\n",
       "    <tr>\n",
       "      <th>39</th>\n",
       "      <td>4</td>\n",
       "      <td>1</td>\n",
       "      <td>2.133275</td>\n",
       "      <td>0.593017</td>\n",
       "      <td>32.306331</td>\n",
       "      <td>36.314027</td>\n",
       "      <td>0.01</td>\n",
       "      <td>1000</td>\n",
       "      <td>4</td>\n",
       "    </tr>\n",
       "    <tr>\n",
       "      <th>40</th>\n",
       "      <td>5</td>\n",
       "      <td>1</td>\n",
       "      <td>2.026540</td>\n",
       "      <td>0.621400</td>\n",
       "      <td>34.602845</td>\n",
       "      <td>38.452636</td>\n",
       "      <td>0.01</td>\n",
       "      <td>1000</td>\n",
       "      <td>8</td>\n",
       "    </tr>\n",
       "    <tr>\n",
       "      <th>41</th>\n",
       "      <td>5</td>\n",
       "      <td>1</td>\n",
       "      <td>2.026540</td>\n",
       "      <td>0.621400</td>\n",
       "      <td>34.602845</td>\n",
       "      <td>38.452636</td>\n",
       "      <td>0.01</td>\n",
       "      <td>1000</td>\n",
       "      <td>8</td>\n",
       "    </tr>\n",
       "    <tr>\n",
       "      <th>42</th>\n",
       "      <td>5</td>\n",
       "      <td>1</td>\n",
       "      <td>2.026540</td>\n",
       "      <td>0.621400</td>\n",
       "      <td>34.602845</td>\n",
       "      <td>38.452636</td>\n",
       "      <td>0.01</td>\n",
       "      <td>1000</td>\n",
       "      <td>8</td>\n",
       "    </tr>\n",
       "    <tr>\n",
       "      <th>43</th>\n",
       "      <td>5</td>\n",
       "      <td>1</td>\n",
       "      <td>2.026540</td>\n",
       "      <td>0.621400</td>\n",
       "      <td>34.602845</td>\n",
       "      <td>38.452636</td>\n",
       "      <td>0.01</td>\n",
       "      <td>1000</td>\n",
       "      <td>8</td>\n",
       "    </tr>\n",
       "    <tr>\n",
       "      <th>44</th>\n",
       "      <td>5</td>\n",
       "      <td>1</td>\n",
       "      <td>2.026540</td>\n",
       "      <td>0.621400</td>\n",
       "      <td>34.602845</td>\n",
       "      <td>38.452636</td>\n",
       "      <td>0.01</td>\n",
       "      <td>1000</td>\n",
       "      <td>8</td>\n",
       "    </tr>\n",
       "    <tr>\n",
       "      <th>45</th>\n",
       "      <td>5</td>\n",
       "      <td>1</td>\n",
       "      <td>2.026540</td>\n",
       "      <td>0.621400</td>\n",
       "      <td>34.602845</td>\n",
       "      <td>38.452636</td>\n",
       "      <td>0.01</td>\n",
       "      <td>1000</td>\n",
       "      <td>8</td>\n",
       "    </tr>\n",
       "    <tr>\n",
       "      <th>46</th>\n",
       "      <td>5</td>\n",
       "      <td>1</td>\n",
       "      <td>2.026540</td>\n",
       "      <td>0.621400</td>\n",
       "      <td>34.602845</td>\n",
       "      <td>38.452636</td>\n",
       "      <td>0.01</td>\n",
       "      <td>1000</td>\n",
       "      <td>8</td>\n",
       "    </tr>\n",
       "    <tr>\n",
       "      <th>47</th>\n",
       "      <td>5</td>\n",
       "      <td>1</td>\n",
       "      <td>2.026540</td>\n",
       "      <td>0.621400</td>\n",
       "      <td>34.602845</td>\n",
       "      <td>38.452636</td>\n",
       "      <td>0.01</td>\n",
       "      <td>1000</td>\n",
       "      <td>8</td>\n",
       "    </tr>\n",
       "    <tr>\n",
       "      <th>48</th>\n",
       "      <td>5</td>\n",
       "      <td>1</td>\n",
       "      <td>2.026540</td>\n",
       "      <td>0.621400</td>\n",
       "      <td>34.602845</td>\n",
       "      <td>38.452636</td>\n",
       "      <td>0.01</td>\n",
       "      <td>1000</td>\n",
       "      <td>8</td>\n",
       "    </tr>\n",
       "    <tr>\n",
       "      <th>49</th>\n",
       "      <td>5</td>\n",
       "      <td>1</td>\n",
       "      <td>2.026540</td>\n",
       "      <td>0.621400</td>\n",
       "      <td>34.602845</td>\n",
       "      <td>38.452636</td>\n",
       "      <td>0.01</td>\n",
       "      <td>1000</td>\n",
       "      <td>8</td>\n",
       "    </tr>\n",
       "    <tr>\n",
       "      <th>50</th>\n",
       "      <td>6</td>\n",
       "      <td>1</td>\n",
       "      <td>2.192701</td>\n",
       "      <td>0.587200</td>\n",
       "      <td>37.809246</td>\n",
       "      <td>41.692561</td>\n",
       "      <td>0.01</td>\n",
       "      <td>1000</td>\n",
       "      <td>16</td>\n",
       "    </tr>\n",
       "    <tr>\n",
       "      <th>51</th>\n",
       "      <td>6</td>\n",
       "      <td>1</td>\n",
       "      <td>2.192701</td>\n",
       "      <td>0.587200</td>\n",
       "      <td>37.809246</td>\n",
       "      <td>41.692561</td>\n",
       "      <td>0.01</td>\n",
       "      <td>1000</td>\n",
       "      <td>16</td>\n",
       "    </tr>\n",
       "    <tr>\n",
       "      <th>52</th>\n",
       "      <td>6</td>\n",
       "      <td>1</td>\n",
       "      <td>2.192701</td>\n",
       "      <td>0.587200</td>\n",
       "      <td>37.809246</td>\n",
       "      <td>41.692561</td>\n",
       "      <td>0.01</td>\n",
       "      <td>1000</td>\n",
       "      <td>16</td>\n",
       "    </tr>\n",
       "    <tr>\n",
       "      <th>53</th>\n",
       "      <td>6</td>\n",
       "      <td>1</td>\n",
       "      <td>2.192701</td>\n",
       "      <td>0.587200</td>\n",
       "      <td>37.809246</td>\n",
       "      <td>41.692561</td>\n",
       "      <td>0.01</td>\n",
       "      <td>1000</td>\n",
       "      <td>16</td>\n",
       "    </tr>\n",
       "    <tr>\n",
       "      <th>54</th>\n",
       "      <td>6</td>\n",
       "      <td>1</td>\n",
       "      <td>2.192701</td>\n",
       "      <td>0.587200</td>\n",
       "      <td>37.809246</td>\n",
       "      <td>41.692561</td>\n",
       "      <td>0.01</td>\n",
       "      <td>1000</td>\n",
       "      <td>16</td>\n",
       "    </tr>\n",
       "    <tr>\n",
       "      <th>55</th>\n",
       "      <td>6</td>\n",
       "      <td>1</td>\n",
       "      <td>2.192701</td>\n",
       "      <td>0.587200</td>\n",
       "      <td>37.809246</td>\n",
       "      <td>41.692561</td>\n",
       "      <td>0.01</td>\n",
       "      <td>1000</td>\n",
       "      <td>16</td>\n",
       "    </tr>\n",
       "    <tr>\n",
       "      <th>56</th>\n",
       "      <td>6</td>\n",
       "      <td>1</td>\n",
       "      <td>2.192701</td>\n",
       "      <td>0.587200</td>\n",
       "      <td>37.809246</td>\n",
       "      <td>41.692561</td>\n",
       "      <td>0.01</td>\n",
       "      <td>1000</td>\n",
       "      <td>16</td>\n",
       "    </tr>\n",
       "    <tr>\n",
       "      <th>57</th>\n",
       "      <td>6</td>\n",
       "      <td>1</td>\n",
       "      <td>2.192701</td>\n",
       "      <td>0.587200</td>\n",
       "      <td>37.809246</td>\n",
       "      <td>41.692561</td>\n",
       "      <td>0.01</td>\n",
       "      <td>1000</td>\n",
       "      <td>16</td>\n",
       "    </tr>\n",
       "    <tr>\n",
       "      <th>58</th>\n",
       "      <td>6</td>\n",
       "      <td>1</td>\n",
       "      <td>2.192701</td>\n",
       "      <td>0.587200</td>\n",
       "      <td>37.809246</td>\n",
       "      <td>41.692561</td>\n",
       "      <td>0.01</td>\n",
       "      <td>1000</td>\n",
       "      <td>16</td>\n",
       "    </tr>\n",
       "    <tr>\n",
       "      <th>59</th>\n",
       "      <td>6</td>\n",
       "      <td>1</td>\n",
       "      <td>2.192701</td>\n",
       "      <td>0.587200</td>\n",
       "      <td>37.809246</td>\n",
       "      <td>41.692561</td>\n",
       "      <td>0.01</td>\n",
       "      <td>1000</td>\n",
       "      <td>16</td>\n",
       "    </tr>\n",
       "  </tbody>\n",
       "</table>\n",
       "</div>"
      ],
      "text/plain": [
       "    run  epoch      loss  accuracy  epoch duration  run duration    lr  \\\n",
       "0     1      1  1.996312  0.621950       41.464276     45.221494  0.01   \n",
       "1     1      1  1.996312  0.621950       41.464276     45.221494  0.01   \n",
       "2     1      1  1.996312  0.621950       41.464276     45.221494  0.01   \n",
       "3     1      1  1.996312  0.621950       41.464276     45.221494  0.01   \n",
       "4     1      1  1.996312  0.621950       41.464276     45.221494  0.01   \n",
       "5     1      1  1.996312  0.621950       41.464276     45.221494  0.01   \n",
       "6     1      1  1.996312  0.621950       41.464276     45.221494  0.01   \n",
       "7     1      1  1.996312  0.621950       41.464276     45.221494  0.01   \n",
       "8     1      1  1.996312  0.621950       41.464276     45.221494  0.01   \n",
       "9     1      1  1.996312  0.621950       41.464276     45.221494  0.01   \n",
       "10    2      1  2.019494  0.610467       33.030518     36.756334  0.01   \n",
       "11    2      1  2.019494  0.610467       33.030518     36.756334  0.01   \n",
       "12    2      1  2.019494  0.610467       33.030518     36.756334  0.01   \n",
       "13    2      1  2.019494  0.610467       33.030518     36.756334  0.01   \n",
       "14    2      1  2.019494  0.610467       33.030518     36.756334  0.01   \n",
       "15    2      1  2.019494  0.610467       33.030518     36.756334  0.01   \n",
       "16    2      1  2.019494  0.610467       33.030518     36.756334  0.01   \n",
       "17    2      1  2.019494  0.610467       33.030518     36.756334  0.01   \n",
       "18    2      1  2.019494  0.610467       33.030518     36.756334  0.01   \n",
       "19    2      1  2.019494  0.610467       33.030518     36.756334  0.01   \n",
       "20    3      1  1.910202  0.633367       34.067068     37.991518  0.01   \n",
       "21    3      1  1.910202  0.633367       34.067068     37.991518  0.01   \n",
       "22    3      1  1.910202  0.633367       34.067068     37.991518  0.01   \n",
       "23    3      1  1.910202  0.633367       34.067068     37.991518  0.01   \n",
       "24    3      1  1.910202  0.633367       34.067068     37.991518  0.01   \n",
       "25    3      1  1.910202  0.633367       34.067068     37.991518  0.01   \n",
       "26    3      1  1.910202  0.633367       34.067068     37.991518  0.01   \n",
       "27    3      1  1.910202  0.633367       34.067068     37.991518  0.01   \n",
       "28    3      1  1.910202  0.633367       34.067068     37.991518  0.01   \n",
       "29    3      1  1.910202  0.633367       34.067068     37.991518  0.01   \n",
       "30    4      1  2.133275  0.593017       32.306331     36.314027  0.01   \n",
       "31    4      1  2.133275  0.593017       32.306331     36.314027  0.01   \n",
       "32    4      1  2.133275  0.593017       32.306331     36.314027  0.01   \n",
       "33    4      1  2.133275  0.593017       32.306331     36.314027  0.01   \n",
       "34    4      1  2.133275  0.593017       32.306331     36.314027  0.01   \n",
       "35    4      1  2.133275  0.593017       32.306331     36.314027  0.01   \n",
       "36    4      1  2.133275  0.593017       32.306331     36.314027  0.01   \n",
       "37    4      1  2.133275  0.593017       32.306331     36.314027  0.01   \n",
       "38    4      1  2.133275  0.593017       32.306331     36.314027  0.01   \n",
       "39    4      1  2.133275  0.593017       32.306331     36.314027  0.01   \n",
       "40    5      1  2.026540  0.621400       34.602845     38.452636  0.01   \n",
       "41    5      1  2.026540  0.621400       34.602845     38.452636  0.01   \n",
       "42    5      1  2.026540  0.621400       34.602845     38.452636  0.01   \n",
       "43    5      1  2.026540  0.621400       34.602845     38.452636  0.01   \n",
       "44    5      1  2.026540  0.621400       34.602845     38.452636  0.01   \n",
       "45    5      1  2.026540  0.621400       34.602845     38.452636  0.01   \n",
       "46    5      1  2.026540  0.621400       34.602845     38.452636  0.01   \n",
       "47    5      1  2.026540  0.621400       34.602845     38.452636  0.01   \n",
       "48    5      1  2.026540  0.621400       34.602845     38.452636  0.01   \n",
       "49    5      1  2.026540  0.621400       34.602845     38.452636  0.01   \n",
       "50    6      1  2.192701  0.587200       37.809246     41.692561  0.01   \n",
       "51    6      1  2.192701  0.587200       37.809246     41.692561  0.01   \n",
       "52    6      1  2.192701  0.587200       37.809246     41.692561  0.01   \n",
       "53    6      1  2.192701  0.587200       37.809246     41.692561  0.01   \n",
       "54    6      1  2.192701  0.587200       37.809246     41.692561  0.01   \n",
       "55    6      1  2.192701  0.587200       37.809246     41.692561  0.01   \n",
       "56    6      1  2.192701  0.587200       37.809246     41.692561  0.01   \n",
       "57    6      1  2.192701  0.587200       37.809246     41.692561  0.01   \n",
       "58    6      1  2.192701  0.587200       37.809246     41.692561  0.01   \n",
       "59    6      1  2.192701  0.587200       37.809246     41.692561  0.01   \n",
       "\n",
       "    batch_size  num_workers  \n",
       "0         1000            0  \n",
       "1         1000            0  \n",
       "2         1000            0  \n",
       "3         1000            0  \n",
       "4         1000            0  \n",
       "5         1000            0  \n",
       "6         1000            0  \n",
       "7         1000            0  \n",
       "8         1000            0  \n",
       "9         1000            0  \n",
       "10        1000            1  \n",
       "11        1000            1  \n",
       "12        1000            1  \n",
       "13        1000            1  \n",
       "14        1000            1  \n",
       "15        1000            1  \n",
       "16        1000            1  \n",
       "17        1000            1  \n",
       "18        1000            1  \n",
       "19        1000            1  \n",
       "20        1000            2  \n",
       "21        1000            2  \n",
       "22        1000            2  \n",
       "23        1000            2  \n",
       "24        1000            2  \n",
       "25        1000            2  \n",
       "26        1000            2  \n",
       "27        1000            2  \n",
       "28        1000            2  \n",
       "29        1000            2  \n",
       "30        1000            4  \n",
       "31        1000            4  \n",
       "32        1000            4  \n",
       "33        1000            4  \n",
       "34        1000            4  \n",
       "35        1000            4  \n",
       "36        1000            4  \n",
       "37        1000            4  \n",
       "38        1000            4  \n",
       "39        1000            4  \n",
       "40        1000            8  \n",
       "41        1000            8  \n",
       "42        1000            8  \n",
       "43        1000            8  \n",
       "44        1000            8  \n",
       "45        1000            8  \n",
       "46        1000            8  \n",
       "47        1000            8  \n",
       "48        1000            8  \n",
       "49        1000            8  \n",
       "50        1000           16  \n",
       "51        1000           16  \n",
       "52        1000           16  \n",
       "53        1000           16  \n",
       "54        1000           16  \n",
       "55        1000           16  \n",
       "56        1000           16  \n",
       "57        1000           16  \n",
       "58        1000           16  \n",
       "59        1000           16  "
      ]
     },
     "metadata": {},
     "output_type": "display_data"
    }
   ],
   "source": [
    "params = OrderedDict(\n",
    "    lr = [0.01]\n",
    "    ,batch_size = [1000]\n",
    "    ,num_workers = [0, 1, 2, 4, 8, 16]\n",
    "    #,shuffle = [True, False]\n",
    ")\n",
    "\n",
    "m = RunManager()\n",
    "\n",
    "for run in RunBuilder.get_runs(params):\n",
    "    network = Network()\n",
    "    train_loader = DataLoader(train_set, batch_size=run.batch_size, num_workers=run.num_workers)\n",
    "    optimizer = optim.Adam(network.parameters(), lr=run.lr)\n",
    "    \n",
    "    m.begin_run(run, network, loader)\n",
    "    for epoch in range(1):\n",
    "        m.begin_epoch()\n",
    "\n",
    "        for batch in train_loader:\n",
    "            images = batch[0]\n",
    "            labels = batch[1]\n",
    "\n",
    "            preds = network(images) # pass Batch\n",
    "            loss = F.cross_entropy(preds, labels) # calculate loss\n",
    "\n",
    "            optimizer.zero_grad() # Zero gradients\n",
    "            loss.backward() # Calculate gradients\n",
    "            optimizer.step() # Update Weights\n",
    "\n",
    "            m.track_loss(loss)\n",
    "\n",
    "            m.track_num_correct(preds, labels)\n",
    "\n",
    "        m.end_epoch()\n",
    "    m.end_run()\n",
    "#m.save('results')"
   ]
  },
  {
   "cell_type": "code",
   "execution_count": null,
   "metadata": {},
   "outputs": [],
   "source": []
  }
 ],
 "metadata": {
  "kernelspec": {
   "display_name": "Python 3",
   "language": "python",
   "name": "python3"
  },
  "language_info": {
   "codemirror_mode": {
    "name": "ipython",
    "version": 3
   },
   "file_extension": ".py",
   "mimetype": "text/x-python",
   "name": "python",
   "nbconvert_exporter": "python",
   "pygments_lexer": "ipython3",
   "version": "3.6.9"
  }
 },
 "nbformat": 4,
 "nbformat_minor": 2
}
